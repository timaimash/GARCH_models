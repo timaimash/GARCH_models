{
 "cells": [
  {
   "cell_type": "markdown",
   "metadata": {},
   "source": [
    "## GARCH Model Fundamentals"
   ]
  },
  {
   "cell_type": "markdown",
   "metadata": {},
   "source": [
    "1. Observe volatility clustering\n",
    "\n",
    "Volatility clustering is frequently observed in financial market data, and it poses a challenge for time series modeling.\n",
    "\n",
    "In this exercise, you will get familiar with the S&P 500 daily price dataset. You will calculate daily returns as the percentage price changes, plot the results and observe its behavior over time."
   ]
  },
  {
   "cell_type": "code",
   "execution_count": 9,
   "metadata": {},
   "outputs": [],
   "source": [
    "# Import pandas as pd\n",
    "import pandas as pd\n",
    "import matplotlib.pyplot as plt\n",
    "import numpy as np\n",
    "import pandas_datareader as web\n",
    "import datetime\n",
    "from pandas.plotting import register_matplotlib_converters\n",
    "register_matplotlib_converters()"
   ]
  },
  {
   "cell_type": "code",
   "execution_count": 6,
   "metadata": {},
   "outputs": [
    {
     "name": "stdout",
     "output_type": "stream",
     "text": [
      "Symbols           ^GSPC\n",
      "Date                   \n",
      "2005-01-03  1202.079956\n",
      "2005-01-04  1188.050049\n",
      "2005-01-05  1183.739990\n",
      "2005-01-06  1187.890015\n",
      "2005-01-07  1186.189941\n"
     ]
    }
   ],
   "source": [
    "#  Get price of S&P500\n",
    "tickers = ['^GSPC']\n",
    "sp_price = web.get_data_yahoo(tickers, start = '2005-01-01',end = '2020-12-01')\n",
    "sp_price = sp_price['Adj Close']\n",
    "# Ensure the prices are sorted by Date\n",
    "sp_price = sp_price.sort_values(by='Date')\n",
    "print(sp_price.head())"
   ]
  },
  {
   "cell_type": "code",
   "execution_count": 10,
   "metadata": {},
   "outputs": [
    {
     "name": "stdout",
     "output_type": "stream",
     "text": [
      "Symbols           ^GSPC    Return\n",
      "Date                             \n",
      "2020-11-17  3609.530029 -0.479193\n",
      "2020-11-18  3567.790039 -1.156383\n",
      "2020-11-19  3581.870117  0.394644\n",
      "2020-11-20  3557.540039 -0.679256\n",
      "2020-11-23  3577.590088  0.563593\n",
      "2020-11-24  3635.409912  1.616167\n",
      "2020-11-25  3629.649902 -0.158442\n",
      "2020-11-27  3638.350098  0.239698\n",
      "2020-11-30  3621.629883 -0.459555\n",
      "2020-12-01  3662.449951  1.127119\n"
     ]
    },
    {
     "data": {
      "image/png": "[encoded data removed]",
      "text/plain": [
       "<Figure size 432x288 with 1 Axes>"
      ]
     },
     "metadata": {
      "needs_background": "light"
     },
     "output_type": "display_data"
    }
   ],
   "source": [
    "# Calculate daily returns as percentage price changes\n",
    "sp_price['Return'] = 100 * (sp_price.pct_change())\n",
    "\n",
    "# View the data\n",
    "print(sp_price.tail(10))\n",
    "\n",
    "# plot the data\n",
    "plt.plot(sp_price['Return'], color = 'tomato', label = 'Daily Returns')\n",
    "plt.legend(loc='upper right')\n",
    "plt.show()"
   ]
  },
  {
   "cell_type": "code",
   "execution_count": 14,
   "metadata": {},
   "outputs": [
    {
     "name": "stdout",
     "output_type": "stream",
     "text": [
      "Daily volatility:  1.25%\n",
      "Monthly volatility:  5.72%\n",
      "Annual volatility:  19.83%\n"
     ]
    }
   ],
   "source": [
    "# Calculate daily std of returns\n",
    "std_daily = sp_price['Return'].std()\n",
    "print('Daily volatility: ', '{:.2f}%'.format(std_daily))\n",
    "\n",
    "# Convert daily volatility to monthly volatility\n",
    "std_monthly = np.sqrt(21) * std_daily\n",
    "print ('Monthly volatility: ', '{:.2f}%'.format(std_monthly))\n",
    "\n",
    "# Convert daily volatility to annaul volatility\n",
    "std_annual = np.sqrt(252) * std_daily\n",
    "print ('Annual volatility: ', '{:.2f}%'.format(std_annual))"
   ]
  },
  {
   "cell_type": "code",
   "execution_count": null,
   "metadata": {},
   "outputs": [],
   "source": []
  }
 ],
 "metadata": {
  "kernelspec": {
   "display_name": "Python 3",
   "language": "python",
   "name": "python3"
  },
  "language_info": {
   "codemirror_mode": {
    "name": "ipython",
    "version": 3
   },
   "file_extension": ".py",
   "mimetype": "text/x-python",
   "name": "python",
   "nbconvert_exporter": "python",
   "pygments_lexer": "ipython3",
   "version": "3.7.8"
  }
 },
 "nbformat": 4,
 "nbformat_minor": 4
}
